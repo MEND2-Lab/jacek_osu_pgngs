{
 "cells": [
  {
   "cell_type": "code",
   "execution_count": 1,
   "metadata": {},
   "outputs": [],
   "source": [
    "import pandas as pd"
   ]
  },
  {
   "cell_type": "code",
   "execution_count": 9,
   "metadata": {},
   "outputs": [],
   "source": [
    "pd.options.display.max_rows = 15"
   ]
  },
  {
   "cell_type": "code",
   "execution_count": 6,
   "metadata": {},
   "outputs": [],
   "source": [
    "PGNGS_data = pd.read_csv(('pulled_data/11_1_PGNGS.csv'), header=0, sep=',')"
   ]
  },
  {
   "cell_type": "code",
   "execution_count": 8,
   "metadata": {},
   "outputs": [
    {
     "data": {
      "text/plain": [
       "Index(['stimuli_1', 'correct_resp1', 'stimuli_2', 'correct_resp2', 'stimuli_3',\n",
       "       'correct_resp3', 'stimuli_4', 'correct_resp4', 'stimuli_5',\n",
       "       'correct_resp5',\n",
       "       ...\n",
       "       'block5_stim.stopped', 'f5_resp.started', 'fin_5t.started',\n",
       "       'participant', 'session', 'date', 'expName', 'psychopyVersion',\n",
       "       'frameRate', 'Unnamed: 114'],\n",
       "      dtype='object', length=115)"
      ]
     },
     "execution_count": 8,
     "metadata": {},
     "output_type": "execute_result"
    }
   ],
   "source": [
    "PGNGS_data.columns"
   ]
  },
  {
   "cell_type": "code",
   "execution_count": 12,
   "metadata": {},
   "outputs": [
    {
     "data": {
      "text/plain": [
       "0       L_v.bmp\n",
       "1       L_c.bmp\n",
       "2       L_j.bmp\n",
       "3       L_k.bmp\n",
       "4       L_w.bmp\n",
       "         ...   \n",
       "1160    L_j.bmp\n",
       "1161    L_g.bmp\n",
       "1162    L_b.bmp\n",
       "1163    L_d.bmp\n",
       "1164        NaN\n",
       "Name: stimuli_5, Length: 1165, dtype: object"
      ]
     },
     "execution_count": 12,
     "metadata": {},
     "output_type": "execute_result"
    }
   ],
   "source": [
    "PGNGS_data['stimuli_5']"
   ]
  }
 ],
 "metadata": {
  "kernelspec": {
   "display_name": "base",
   "language": "python",
   "name": "python3"
  },
  "language_info": {
   "codemirror_mode": {
    "name": "ipython",
    "version": 3
   },
   "file_extension": ".py",
   "mimetype": "text/x-python",
   "name": "python",
   "nbconvert_exporter": "python",
   "pygments_lexer": "ipython3",
   "version": "3.10.9"
  },
  "orig_nbformat": 4
 },
 "nbformat": 4,
 "nbformat_minor": 2
}
